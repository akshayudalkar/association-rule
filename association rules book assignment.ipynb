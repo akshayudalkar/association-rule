{
 "cells": [
  {
   "cell_type": "markdown",
   "id": "d7f3a05f",
   "metadata": {},
   "source": [
    "# Import Library And Data-Set"
   ]
  },
  {
   "cell_type": "code",
   "execution_count": 2,
   "id": "0f5a779a",
   "metadata": {},
   "outputs": [],
   "source": [
    "import numpy as np\n",
    "import pandas as pd\n",
    "import matplotlib.pyplot as plt\n",
    "import seaborn as sns"
   ]
  },
  {
   "cell_type": "code",
   "execution_count": 3,
   "id": "56de69ef",
   "metadata": {},
   "outputs": [
    {
     "data": {
      "text/html": [
       "<div>\n",
       "<style scoped>\n",
       "    .dataframe tbody tr th:only-of-type {\n",
       "        vertical-align: middle;\n",
       "    }\n",
       "\n",
       "    .dataframe tbody tr th {\n",
       "        vertical-align: top;\n",
       "    }\n",
       "\n",
       "    .dataframe thead th {\n",
       "        text-align: right;\n",
       "    }\n",
       "</style>\n",
       "<table border=\"1\" class=\"dataframe\">\n",
       "  <thead>\n",
       "    <tr style=\"text-align: right;\">\n",
       "      <th></th>\n",
       "      <th>ChildBks</th>\n",
       "      <th>YouthBks</th>\n",
       "      <th>CookBks</th>\n",
       "      <th>DoItYBks</th>\n",
       "      <th>RefBks</th>\n",
       "      <th>ArtBks</th>\n",
       "      <th>GeogBks</th>\n",
       "      <th>ItalCook</th>\n",
       "      <th>ItalAtlas</th>\n",
       "      <th>ItalArt</th>\n",
       "      <th>Florence</th>\n",
       "    </tr>\n",
       "  </thead>\n",
       "  <tbody>\n",
       "    <tr>\n",
       "      <th>0</th>\n",
       "      <td>0</td>\n",
       "      <td>1</td>\n",
       "      <td>0</td>\n",
       "      <td>1</td>\n",
       "      <td>0</td>\n",
       "      <td>0</td>\n",
       "      <td>1</td>\n",
       "      <td>0</td>\n",
       "      <td>0</td>\n",
       "      <td>0</td>\n",
       "      <td>0</td>\n",
       "    </tr>\n",
       "    <tr>\n",
       "      <th>1</th>\n",
       "      <td>1</td>\n",
       "      <td>0</td>\n",
       "      <td>0</td>\n",
       "      <td>0</td>\n",
       "      <td>0</td>\n",
       "      <td>0</td>\n",
       "      <td>0</td>\n",
       "      <td>0</td>\n",
       "      <td>0</td>\n",
       "      <td>0</td>\n",
       "      <td>0</td>\n",
       "    </tr>\n",
       "    <tr>\n",
       "      <th>2</th>\n",
       "      <td>0</td>\n",
       "      <td>0</td>\n",
       "      <td>0</td>\n",
       "      <td>0</td>\n",
       "      <td>0</td>\n",
       "      <td>0</td>\n",
       "      <td>0</td>\n",
       "      <td>0</td>\n",
       "      <td>0</td>\n",
       "      <td>0</td>\n",
       "      <td>0</td>\n",
       "    </tr>\n",
       "    <tr>\n",
       "      <th>3</th>\n",
       "      <td>1</td>\n",
       "      <td>1</td>\n",
       "      <td>1</td>\n",
       "      <td>0</td>\n",
       "      <td>1</td>\n",
       "      <td>0</td>\n",
       "      <td>1</td>\n",
       "      <td>0</td>\n",
       "      <td>0</td>\n",
       "      <td>0</td>\n",
       "      <td>0</td>\n",
       "    </tr>\n",
       "    <tr>\n",
       "      <th>4</th>\n",
       "      <td>0</td>\n",
       "      <td>0</td>\n",
       "      <td>1</td>\n",
       "      <td>0</td>\n",
       "      <td>0</td>\n",
       "      <td>0</td>\n",
       "      <td>1</td>\n",
       "      <td>0</td>\n",
       "      <td>0</td>\n",
       "      <td>0</td>\n",
       "      <td>0</td>\n",
       "    </tr>\n",
       "  </tbody>\n",
       "</table>\n",
       "</div>"
      ],
      "text/plain": [
       "   ChildBks  YouthBks  CookBks  DoItYBks  RefBks  ArtBks  GeogBks  ItalCook  \\\n",
       "0         0         1        0         1       0       0        1         0   \n",
       "1         1         0        0         0       0       0        0         0   \n",
       "2         0         0        0         0       0       0        0         0   \n",
       "3         1         1        1         0       1       0        1         0   \n",
       "4         0         0        1         0       0       0        1         0   \n",
       "\n",
       "   ItalAtlas  ItalArt  Florence  \n",
       "0          0        0         0  \n",
       "1          0        0         0  \n",
       "2          0        0         0  \n",
       "3          0        0         0  \n",
       "4          0        0         0  "
      ]
     },
     "execution_count": 3,
     "metadata": {},
     "output_type": "execute_result"
    }
   ],
   "source": [
    "data=pd.read_csv(r'C:\\Users\\hp\\Downloads\\book.csv')\n",
    "data.head()"
   ]
  },
  {
   "cell_type": "markdown",
   "id": "14dc1d70",
   "metadata": {},
   "source": [
    "# EDA"
   ]
  },
  {
   "cell_type": "code",
   "execution_count": 4,
   "id": "b38be151",
   "metadata": {},
   "outputs": [
    {
     "name": "stdout",
     "output_type": "stream",
     "text": [
      "<class 'pandas.core.frame.DataFrame'>\n",
      "RangeIndex: 2000 entries, 0 to 1999\n",
      "Data columns (total 11 columns):\n",
      " #   Column     Non-Null Count  Dtype\n",
      "---  ------     --------------  -----\n",
      " 0   ChildBks   2000 non-null   int64\n",
      " 1   YouthBks   2000 non-null   int64\n",
      " 2   CookBks    2000 non-null   int64\n",
      " 3   DoItYBks   2000 non-null   int64\n",
      " 4   RefBks     2000 non-null   int64\n",
      " 5   ArtBks     2000 non-null   int64\n",
      " 6   GeogBks    2000 non-null   int64\n",
      " 7   ItalCook   2000 non-null   int64\n",
      " 8   ItalAtlas  2000 non-null   int64\n",
      " 9   ItalArt    2000 non-null   int64\n",
      " 10  Florence   2000 non-null   int64\n",
      "dtypes: int64(11)\n",
      "memory usage: 172.0 KB\n"
     ]
    }
   ],
   "source": [
    "data.info()"
   ]
  },
  {
   "cell_type": "code",
   "execution_count": 5,
   "id": "b9848a8d",
   "metadata": {},
   "outputs": [
    {
     "data": {
      "text/plain": [
       "(2000, 11)"
      ]
     },
     "execution_count": 5,
     "metadata": {},
     "output_type": "execute_result"
    }
   ],
   "source": [
    "data.shape"
   ]
  },
  {
   "cell_type": "code",
   "execution_count": 6,
   "id": "719db1ea",
   "metadata": {},
   "outputs": [
    {
     "data": {
      "text/plain": [
       "ChildBks     0\n",
       "YouthBks     0\n",
       "CookBks      0\n",
       "DoItYBks     0\n",
       "RefBks       0\n",
       "ArtBks       0\n",
       "GeogBks      0\n",
       "ItalCook     0\n",
       "ItalAtlas    0\n",
       "ItalArt      0\n",
       "Florence     0\n",
       "dtype: int64"
      ]
     },
     "execution_count": 6,
     "metadata": {},
     "output_type": "execute_result"
    }
   ],
   "source": [
    "data.isna().sum()"
   ]
  },
  {
   "cell_type": "code",
   "execution_count": 10,
   "id": "177c1fff",
   "metadata": {},
   "outputs": [],
   "source": [
    "#Generating list of Purchased and Not Purchased \n",
    "zero = []\n",
    "one = []\n",
    "for i in data.columns:\n",
    "    zero.append(list(data[i].value_counts())[0])\n",
    "    one.append(list(data[i].value_counts())[1])"
   ]
  },
  {
   "cell_type": "code",
   "execution_count": 11,
   "id": "5aa8ad20",
   "metadata": {},
   "outputs": [
    {
     "data": {
      "text/html": [
       "<div>\n",
       "<style scoped>\n",
       "    .dataframe tbody tr th:only-of-type {\n",
       "        vertical-align: middle;\n",
       "    }\n",
       "\n",
       "    .dataframe tbody tr th {\n",
       "        vertical-align: top;\n",
       "    }\n",
       "\n",
       "    .dataframe thead th {\n",
       "        text-align: right;\n",
       "    }\n",
       "</style>\n",
       "<table border=\"1\" class=\"dataframe\">\n",
       "  <thead>\n",
       "    <tr style=\"text-align: right;\">\n",
       "      <th></th>\n",
       "      <th>ChildBks</th>\n",
       "      <th>YouthBks</th>\n",
       "      <th>CookBks</th>\n",
       "      <th>DoItYBks</th>\n",
       "      <th>RefBks</th>\n",
       "      <th>ArtBks</th>\n",
       "      <th>GeogBks</th>\n",
       "      <th>ItalCook</th>\n",
       "      <th>ItalAtlas</th>\n",
       "      <th>ItalArt</th>\n",
       "      <th>Florence</th>\n",
       "    </tr>\n",
       "  </thead>\n",
       "  <tbody>\n",
       "    <tr>\n",
       "      <th>0</th>\n",
       "      <td>1154</td>\n",
       "      <td>1505</td>\n",
       "      <td>1138</td>\n",
       "      <td>1436</td>\n",
       "      <td>1571</td>\n",
       "      <td>1518</td>\n",
       "      <td>1448</td>\n",
       "      <td>1773</td>\n",
       "      <td>1926</td>\n",
       "      <td>1903</td>\n",
       "      <td>1783</td>\n",
       "    </tr>\n",
       "    <tr>\n",
       "      <th>1</th>\n",
       "      <td>846</td>\n",
       "      <td>495</td>\n",
       "      <td>862</td>\n",
       "      <td>564</td>\n",
       "      <td>429</td>\n",
       "      <td>482</td>\n",
       "      <td>552</td>\n",
       "      <td>227</td>\n",
       "      <td>74</td>\n",
       "      <td>97</td>\n",
       "      <td>217</td>\n",
       "    </tr>\n",
       "  </tbody>\n",
       "</table>\n",
       "</div>"
      ],
      "text/plain": [
       "   ChildBks  YouthBks  CookBks  DoItYBks  RefBks  ArtBks  GeogBks  ItalCook  \\\n",
       "0      1154      1505     1138      1436    1571    1518     1448      1773   \n",
       "1       846       495      862       564     429     482      552       227   \n",
       "\n",
       "   ItalAtlas  ItalArt  Florence  \n",
       "0       1926     1903      1783  \n",
       "1         74       97       217  "
      ]
     },
     "execution_count": 11,
     "metadata": {},
     "output_type": "execute_result"
    }
   ],
   "source": [
    "count = pd.DataFrame([zero,one], columns=data.copy().columns)\n",
    "count.head()"
   ]
  },
  {
   "cell_type": "code",
   "execution_count": 12,
   "id": "d735bddf",
   "metadata": {},
   "outputs": [
    {
     "data": {
      "text/html": [
       "<div>\n",
       "<style scoped>\n",
       "    .dataframe tbody tr th:only-of-type {\n",
       "        vertical-align: middle;\n",
       "    }\n",
       "\n",
       "    .dataframe tbody tr th {\n",
       "        vertical-align: top;\n",
       "    }\n",
       "\n",
       "    .dataframe thead th {\n",
       "        text-align: right;\n",
       "    }\n",
       "</style>\n",
       "<table border=\"1\" class=\"dataframe\">\n",
       "  <thead>\n",
       "    <tr style=\"text-align: right;\">\n",
       "      <th></th>\n",
       "      <th>ChildBks</th>\n",
       "      <th>YouthBks</th>\n",
       "      <th>CookBks</th>\n",
       "      <th>DoItYBks</th>\n",
       "      <th>RefBks</th>\n",
       "      <th>ArtBks</th>\n",
       "      <th>GeogBks</th>\n",
       "      <th>ItalCook</th>\n",
       "      <th>ItalAtlas</th>\n",
       "      <th>ItalArt</th>\n",
       "      <th>Florence</th>\n",
       "    </tr>\n",
       "  </thead>\n",
       "  <tbody>\n",
       "    <tr>\n",
       "      <th>Not_Purchased</th>\n",
       "      <td>1154</td>\n",
       "      <td>1505</td>\n",
       "      <td>1138</td>\n",
       "      <td>1436</td>\n",
       "      <td>1571</td>\n",
       "      <td>1518</td>\n",
       "      <td>1448</td>\n",
       "      <td>1773</td>\n",
       "      <td>1926</td>\n",
       "      <td>1903</td>\n",
       "      <td>1783</td>\n",
       "    </tr>\n",
       "    <tr>\n",
       "      <th>Purchased</th>\n",
       "      <td>846</td>\n",
       "      <td>495</td>\n",
       "      <td>862</td>\n",
       "      <td>564</td>\n",
       "      <td>429</td>\n",
       "      <td>482</td>\n",
       "      <td>552</td>\n",
       "      <td>227</td>\n",
       "      <td>74</td>\n",
       "      <td>97</td>\n",
       "      <td>217</td>\n",
       "    </tr>\n",
       "  </tbody>\n",
       "</table>\n",
       "</div>"
      ],
      "text/plain": [
       "               ChildBks  YouthBks  CookBks  DoItYBks  RefBks  ArtBks  GeogBks  \\\n",
       "Not_Purchased      1154      1505     1138      1436    1571    1518     1448   \n",
       "Purchased           846       495      862       564     429     482      552   \n",
       "\n",
       "               ItalCook  ItalAtlas  ItalArt  Florence  \n",
       "Not_Purchased      1773       1926     1903      1783  \n",
       "Purchased           227         74       97       217  "
      ]
     },
     "execution_count": 12,
     "metadata": {},
     "output_type": "execute_result"
    }
   ],
   "source": [
    "#counting how many books are purchased\n",
    "count.index = ['Not_Purchased', 'Purchased']\n",
    "count"
   ]
  },
  {
   "cell_type": "code",
   "execution_count": 13,
   "id": "9b161e40",
   "metadata": {},
   "outputs": [
    {
     "name": "stdout",
     "output_type": "stream",
     "text": [
      "Maximum purchased item: CookBks , Total Purchase:  862\n",
      "Minimum purchased item: ItalAtlas , Total Purchase:  1926\n"
     ]
    }
   ],
   "source": [
    "print(\"Maximum purchased item:\" ,count.idxmax(axis=1)[1],', Total Purchase: ',count.loc['Purchased'].max())\n",
    "print(\"Minimum purchased item:\" ,count.idxmax(axis=1)[0],', Total Purchase: ',count.loc['Not_Purchased'].max())"
   ]
  },
  {
   "cell_type": "code",
   "execution_count": 15,
   "id": "d374b666",
   "metadata": {},
   "outputs": [
    {
     "data": {
      "text/html": [
       "<div>\n",
       "<style scoped>\n",
       "    .dataframe tbody tr th:only-of-type {\n",
       "        vertical-align: middle;\n",
       "    }\n",
       "\n",
       "    .dataframe tbody tr th {\n",
       "        vertical-align: top;\n",
       "    }\n",
       "\n",
       "    .dataframe thead th {\n",
       "        text-align: right;\n",
       "    }\n",
       "</style>\n",
       "<table border=\"1\" class=\"dataframe\">\n",
       "  <thead>\n",
       "    <tr style=\"text-align: right;\">\n",
       "      <th></th>\n",
       "      <th>Not_Purchased</th>\n",
       "      <th>Purchased</th>\n",
       "    </tr>\n",
       "  </thead>\n",
       "  <tbody>\n",
       "    <tr>\n",
       "      <th>CookBks</th>\n",
       "      <td>1138</td>\n",
       "      <td>862</td>\n",
       "    </tr>\n",
       "    <tr>\n",
       "      <th>ChildBks</th>\n",
       "      <td>1154</td>\n",
       "      <td>846</td>\n",
       "    </tr>\n",
       "    <tr>\n",
       "      <th>DoItYBks</th>\n",
       "      <td>1436</td>\n",
       "      <td>564</td>\n",
       "    </tr>\n",
       "    <tr>\n",
       "      <th>GeogBks</th>\n",
       "      <td>1448</td>\n",
       "      <td>552</td>\n",
       "    </tr>\n",
       "    <tr>\n",
       "      <th>YouthBks</th>\n",
       "      <td>1505</td>\n",
       "      <td>495</td>\n",
       "    </tr>\n",
       "    <tr>\n",
       "      <th>ArtBks</th>\n",
       "      <td>1518</td>\n",
       "      <td>482</td>\n",
       "    </tr>\n",
       "    <tr>\n",
       "      <th>RefBks</th>\n",
       "      <td>1571</td>\n",
       "      <td>429</td>\n",
       "    </tr>\n",
       "    <tr>\n",
       "      <th>ItalCook</th>\n",
       "      <td>1773</td>\n",
       "      <td>227</td>\n",
       "    </tr>\n",
       "    <tr>\n",
       "      <th>Florence</th>\n",
       "      <td>1783</td>\n",
       "      <td>217</td>\n",
       "    </tr>\n",
       "    <tr>\n",
       "      <th>ItalArt</th>\n",
       "      <td>1903</td>\n",
       "      <td>97</td>\n",
       "    </tr>\n",
       "    <tr>\n",
       "      <th>ItalAtlas</th>\n",
       "      <td>1926</td>\n",
       "      <td>74</td>\n",
       "    </tr>\n",
       "  </tbody>\n",
       "</table>\n",
       "</div>"
      ],
      "text/plain": [
       "           Not_Purchased  Purchased\n",
       "CookBks             1138        862\n",
       "ChildBks            1154        846\n",
       "DoItYBks            1436        564\n",
       "GeogBks             1448        552\n",
       "YouthBks            1505        495\n",
       "ArtBks              1518        482\n",
       "RefBks              1571        429\n",
       "ItalCook            1773        227\n",
       "Florence            1783        217\n",
       "ItalArt             1903         97\n",
       "ItalAtlas           1926         74"
      ]
     },
     "execution_count": 15,
     "metadata": {},
     "output_type": "execute_result"
    }
   ],
   "source": [
    "sorted_df = pd.DataFrame(count.sort_values(by = ['Purchased'], axis=1, ascending=False).transpose())\n",
    "sorted_df"
   ]
  },
  {
   "cell_type": "code",
   "execution_count": 16,
   "id": "091d03d8",
   "metadata": {},
   "outputs": [
    {
     "data": {
      "text/html": [
       "<div>\n",
       "<style scoped>\n",
       "    .dataframe tbody tr th:only-of-type {\n",
       "        vertical-align: middle;\n",
       "    }\n",
       "\n",
       "    .dataframe tbody tr th {\n",
       "        vertical-align: top;\n",
       "    }\n",
       "\n",
       "    .dataframe thead th {\n",
       "        text-align: right;\n",
       "    }\n",
       "</style>\n",
       "<table border=\"1\" class=\"dataframe\">\n",
       "  <thead>\n",
       "    <tr style=\"text-align: right;\">\n",
       "      <th></th>\n",
       "      <th>Not_Purchased</th>\n",
       "      <th>Purchased</th>\n",
       "      <th>Purchased %</th>\n",
       "    </tr>\n",
       "  </thead>\n",
       "  <tbody>\n",
       "    <tr>\n",
       "      <th>CookBks</th>\n",
       "      <td>1138</td>\n",
       "      <td>862</td>\n",
       "      <td>0.177915</td>\n",
       "    </tr>\n",
       "    <tr>\n",
       "      <th>ChildBks</th>\n",
       "      <td>1154</td>\n",
       "      <td>846</td>\n",
       "      <td>0.174613</td>\n",
       "    </tr>\n",
       "    <tr>\n",
       "      <th>DoItYBks</th>\n",
       "      <td>1436</td>\n",
       "      <td>564</td>\n",
       "      <td>0.116409</td>\n",
       "    </tr>\n",
       "    <tr>\n",
       "      <th>GeogBks</th>\n",
       "      <td>1448</td>\n",
       "      <td>552</td>\n",
       "      <td>0.113932</td>\n",
       "    </tr>\n",
       "    <tr>\n",
       "      <th>YouthBks</th>\n",
       "      <td>1505</td>\n",
       "      <td>495</td>\n",
       "      <td>0.102167</td>\n",
       "    </tr>\n",
       "    <tr>\n",
       "      <th>ArtBks</th>\n",
       "      <td>1518</td>\n",
       "      <td>482</td>\n",
       "      <td>0.099484</td>\n",
       "    </tr>\n",
       "    <tr>\n",
       "      <th>RefBks</th>\n",
       "      <td>1571</td>\n",
       "      <td>429</td>\n",
       "      <td>0.088545</td>\n",
       "    </tr>\n",
       "    <tr>\n",
       "      <th>ItalCook</th>\n",
       "      <td>1773</td>\n",
       "      <td>227</td>\n",
       "      <td>0.046852</td>\n",
       "    </tr>\n",
       "    <tr>\n",
       "      <th>Florence</th>\n",
       "      <td>1783</td>\n",
       "      <td>217</td>\n",
       "      <td>0.044788</td>\n",
       "    </tr>\n",
       "    <tr>\n",
       "      <th>ItalArt</th>\n",
       "      <td>1903</td>\n",
       "      <td>97</td>\n",
       "      <td>0.020021</td>\n",
       "    </tr>\n",
       "    <tr>\n",
       "      <th>ItalAtlas</th>\n",
       "      <td>1926</td>\n",
       "      <td>74</td>\n",
       "      <td>0.015273</td>\n",
       "    </tr>\n",
       "  </tbody>\n",
       "</table>\n",
       "</div>"
      ],
      "text/plain": [
       "           Not_Purchased  Purchased  Purchased %\n",
       "CookBks             1138        862     0.177915\n",
       "ChildBks            1154        846     0.174613\n",
       "DoItYBks            1436        564     0.116409\n",
       "GeogBks             1448        552     0.113932\n",
       "YouthBks            1505        495     0.102167\n",
       "ArtBks              1518        482     0.099484\n",
       "RefBks              1571        429     0.088545\n",
       "ItalCook            1773        227     0.046852\n",
       "Florence            1783        217     0.044788\n",
       "ItalArt             1903         97     0.020021\n",
       "ItalAtlas           1926         74     0.015273"
      ]
     },
     "execution_count": 16,
     "metadata": {},
     "output_type": "execute_result"
    }
   ],
   "source": [
    "#percentage of books purchased\n",
    "# book/total_no._of_books\n",
    "sorted_df['Purchased %']= sorted_df.Purchased/sum(sorted_df.Purchased)\n",
    "sorted_df"
   ]
  },
  {
   "cell_type": "code",
   "execution_count": 17,
   "id": "e4f635e3",
   "metadata": {},
   "outputs": [
    {
     "data": {
      "image/png": "[encoded data removed]",
      "text/plain": [
       "<Figure size 1296x576 with 1 Axes>"
      ]
     },
     "metadata": {
      "needs_background": "light"
     },
     "output_type": "display_data"
    }
   ],
   "source": [
    "fig = plt.subplots(figsize=(18,8))\n",
    "purchased = sorted_df.head(50).xs('Purchased' , axis=1)\n",
    "purchased.plot(kind='bar', color = 'blue')\n",
    "plt.title('Purchased top Count',fontsize=13)\n",
    "plt.xlabel('Products', fontsize=13)\n",
    "plt.ylabel('Total Quantity Purchased', fontsize=13)\n",
    "plt.show()"
   ]
  },
  {
   "cell_type": "markdown",
   "id": "d5597ba3",
   "metadata": {},
   "source": [
    "# Apriori Algoritham"
   ]
  },
  {
   "cell_type": "code",
   "execution_count": 18,
   "id": "0b10be99",
   "metadata": {},
   "outputs": [
    {
     "name": "stderr",
     "output_type": "stream",
     "text": [
      "C:\\Users\\hp\\anaconda3\\lib\\site-packages\\mlxtend\\frequent_patterns\\fpcommon.py:111: DeprecationWarning: DataFrames with non-bool types result in worse computationalperformance and their support might be discontinued in the future.Please use a DataFrame with bool type\n",
      "  warnings.warn(\n"
     ]
    }
   ],
   "source": [
    "from mlxtend.frequent_patterns import apriori, association_rules\n",
    "freq_items = apriori(data, min_support=0.05, use_colnames=True, max_len=3)"
   ]
  },
  {
   "cell_type": "code",
   "execution_count": 19,
   "id": "03ca1028",
   "metadata": {},
   "outputs": [],
   "source": [
    "\n",
    "# Rules by metrix : confidence\n",
    "confidence_association = association_rules(freq_items, metric='confidence', min_threshold=0.2)"
   ]
  },
  {
   "cell_type": "code",
   "execution_count": 21,
   "id": "af8f22d9",
   "metadata": {},
   "outputs": [
    {
     "data": {
      "text/html": [
       "<div>\n",
       "<style scoped>\n",
       "    .dataframe tbody tr th:only-of-type {\n",
       "        vertical-align: middle;\n",
       "    }\n",
       "\n",
       "    .dataframe tbody tr th {\n",
       "        vertical-align: top;\n",
       "    }\n",
       "\n",
       "    .dataframe thead th {\n",
       "        text-align: right;\n",
       "    }\n",
       "</style>\n",
       "<table border=\"1\" class=\"dataframe\">\n",
       "  <thead>\n",
       "    <tr style=\"text-align: right;\">\n",
       "      <th></th>\n",
       "      <th>antecedents</th>\n",
       "      <th>consequents</th>\n",
       "      <th>antecedent support</th>\n",
       "      <th>consequent support</th>\n",
       "      <th>support</th>\n",
       "      <th>confidence</th>\n",
       "      <th>lift</th>\n",
       "      <th>leverage</th>\n",
       "      <th>conviction</th>\n",
       "    </tr>\n",
       "  </thead>\n",
       "  <tbody>\n",
       "    <tr>\n",
       "      <th>172</th>\n",
       "      <td>(YouthBks, ItalCook)</td>\n",
       "      <td>(CookBks)</td>\n",
       "      <td>0.0590</td>\n",
       "      <td>0.431</td>\n",
       "      <td>0.0590</td>\n",
       "      <td>1.0</td>\n",
       "      <td>2.320186</td>\n",
       "      <td>0.033571</td>\n",
       "      <td>inf</td>\n",
       "    </tr>\n",
       "    <tr>\n",
       "      <th>34</th>\n",
       "      <td>(ItalCook)</td>\n",
       "      <td>(CookBks)</td>\n",
       "      <td>0.1135</td>\n",
       "      <td>0.431</td>\n",
       "      <td>0.1135</td>\n",
       "      <td>1.0</td>\n",
       "      <td>2.320186</td>\n",
       "      <td>0.064582</td>\n",
       "      <td>inf</td>\n",
       "    </tr>\n",
       "    <tr>\n",
       "      <th>106</th>\n",
       "      <td>(ChildBks, ItalCook)</td>\n",
       "      <td>(CookBks)</td>\n",
       "      <td>0.0850</td>\n",
       "      <td>0.431</td>\n",
       "      <td>0.0850</td>\n",
       "      <td>1.0</td>\n",
       "      <td>2.320186</td>\n",
       "      <td>0.048365</td>\n",
       "      <td>inf</td>\n",
       "    </tr>\n",
       "    <tr>\n",
       "      <th>225</th>\n",
       "      <td>(ItalCook, DoItYBks)</td>\n",
       "      <td>(CookBks)</td>\n",
       "      <td>0.0585</td>\n",
       "      <td>0.431</td>\n",
       "      <td>0.0585</td>\n",
       "      <td>1.0</td>\n",
       "      <td>2.320186</td>\n",
       "      <td>0.033287</td>\n",
       "      <td>inf</td>\n",
       "    </tr>\n",
       "    <tr>\n",
       "      <th>246</th>\n",
       "      <td>(ArtBks, ItalCook)</td>\n",
       "      <td>(CookBks)</td>\n",
       "      <td>0.0565</td>\n",
       "      <td>0.431</td>\n",
       "      <td>0.0565</td>\n",
       "      <td>1.0</td>\n",
       "      <td>2.320186</td>\n",
       "      <td>0.032148</td>\n",
       "      <td>inf</td>\n",
       "    </tr>\n",
       "  </tbody>\n",
       "</table>\n",
       "</div>"
      ],
      "text/plain": [
       "              antecedents consequents  antecedent support  consequent support  \\\n",
       "172  (YouthBks, ItalCook)   (CookBks)              0.0590               0.431   \n",
       "34             (ItalCook)   (CookBks)              0.1135               0.431   \n",
       "106  (ChildBks, ItalCook)   (CookBks)              0.0850               0.431   \n",
       "225  (ItalCook, DoItYBks)   (CookBks)              0.0585               0.431   \n",
       "246    (ArtBks, ItalCook)   (CookBks)              0.0565               0.431   \n",
       "\n",
       "     support  confidence      lift  leverage  conviction  \n",
       "172   0.0590         1.0  2.320186  0.033571         inf  \n",
       "34    0.1135         1.0  2.320186  0.064582         inf  \n",
       "106   0.0850         1.0  2.320186  0.048365         inf  \n",
       "225   0.0585         1.0  2.320186  0.033287         inf  \n",
       "246   0.0565         1.0  2.320186  0.032148         inf  "
      ]
     },
     "execution_count": 21,
     "metadata": {},
     "output_type": "execute_result"
    }
   ],
   "source": [
    "confidence_association.sort_values('confidence',ascending = False,inplace=True)\n",
    "confidence_association.head()"
   ]
  },
  {
   "cell_type": "code",
   "execution_count": 22,
   "id": "dfaa9450",
   "metadata": {},
   "outputs": [],
   "source": [
    "# Rules by metrix : confidence\n",
    "lift_association = association_rules(freq_items, metric='lift', min_threshold=0.2)"
   ]
  },
  {
   "cell_type": "code",
   "execution_count": 23,
   "id": "669eff2c",
   "metadata": {},
   "outputs": [],
   "source": [
    "# Rules by metrix : confidence\n",
    "lift_association = association_rules(freq_items, metric='lift', min_threshold=0.2)"
   ]
  },
  {
   "cell_type": "code",
   "execution_count": 24,
   "id": "3b3afa37",
   "metadata": {},
   "outputs": [
    {
     "data": {
      "text/html": [
       "<div>\n",
       "<style scoped>\n",
       "    .dataframe tbody tr th:only-of-type {\n",
       "        vertical-align: middle;\n",
       "    }\n",
       "\n",
       "    .dataframe tbody tr th {\n",
       "        vertical-align: top;\n",
       "    }\n",
       "\n",
       "    .dataframe thead th {\n",
       "        text-align: right;\n",
       "    }\n",
       "</style>\n",
       "<table border=\"1\" class=\"dataframe\">\n",
       "  <thead>\n",
       "    <tr style=\"text-align: right;\">\n",
       "      <th></th>\n",
       "      <th>antecedents</th>\n",
       "      <th>consequents</th>\n",
       "      <th>antecedent support</th>\n",
       "      <th>consequent support</th>\n",
       "      <th>support</th>\n",
       "      <th>confidence</th>\n",
       "      <th>lift</th>\n",
       "      <th>leverage</th>\n",
       "      <th>conviction</th>\n",
       "    </tr>\n",
       "  </thead>\n",
       "  <tbody>\n",
       "    <tr>\n",
       "      <th>184</th>\n",
       "      <td>(ItalCook)</td>\n",
       "      <td>(YouthBks, CookBks)</td>\n",
       "      <td>0.1135</td>\n",
       "      <td>0.1620</td>\n",
       "      <td>0.0590</td>\n",
       "      <td>0.519824</td>\n",
       "      <td>3.208789</td>\n",
       "      <td>0.040613</td>\n",
       "      <td>1.745193</td>\n",
       "    </tr>\n",
       "    <tr>\n",
       "      <th>181</th>\n",
       "      <td>(YouthBks, CookBks)</td>\n",
       "      <td>(ItalCook)</td>\n",
       "      <td>0.1620</td>\n",
       "      <td>0.1135</td>\n",
       "      <td>0.0590</td>\n",
       "      <td>0.364198</td>\n",
       "      <td>3.208789</td>\n",
       "      <td>0.040613</td>\n",
       "      <td>1.394301</td>\n",
       "    </tr>\n",
       "    <tr>\n",
       "      <th>262</th>\n",
       "      <td>(ItalCook)</td>\n",
       "      <td>(ArtBks, CookBks)</td>\n",
       "      <td>0.1135</td>\n",
       "      <td>0.1670</td>\n",
       "      <td>0.0565</td>\n",
       "      <td>0.497797</td>\n",
       "      <td>2.980822</td>\n",
       "      <td>0.037545</td>\n",
       "      <td>1.658693</td>\n",
       "    </tr>\n",
       "    <tr>\n",
       "      <th>259</th>\n",
       "      <td>(ArtBks, CookBks)</td>\n",
       "      <td>(ItalCook)</td>\n",
       "      <td>0.1670</td>\n",
       "      <td>0.1135</td>\n",
       "      <td>0.0565</td>\n",
       "      <td>0.338323</td>\n",
       "      <td>2.980822</td>\n",
       "      <td>0.037545</td>\n",
       "      <td>1.339778</td>\n",
       "    </tr>\n",
       "    <tr>\n",
       "      <th>265</th>\n",
       "      <td>(GeogBks, CookBks)</td>\n",
       "      <td>(ItalCook)</td>\n",
       "      <td>0.1925</td>\n",
       "      <td>0.1135</td>\n",
       "      <td>0.0640</td>\n",
       "      <td>0.332468</td>\n",
       "      <td>2.929229</td>\n",
       "      <td>0.042151</td>\n",
       "      <td>1.328025</td>\n",
       "    </tr>\n",
       "  </tbody>\n",
       "</table>\n",
       "</div>"
      ],
      "text/plain": [
       "             antecedents          consequents  antecedent support  \\\n",
       "184           (ItalCook)  (YouthBks, CookBks)              0.1135   \n",
       "181  (YouthBks, CookBks)           (ItalCook)              0.1620   \n",
       "262           (ItalCook)    (ArtBks, CookBks)              0.1135   \n",
       "259    (ArtBks, CookBks)           (ItalCook)              0.1670   \n",
       "265   (GeogBks, CookBks)           (ItalCook)              0.1925   \n",
       "\n",
       "     consequent support  support  confidence      lift  leverage  conviction  \n",
       "184              0.1620   0.0590    0.519824  3.208789  0.040613    1.745193  \n",
       "181              0.1135   0.0590    0.364198  3.208789  0.040613    1.394301  \n",
       "262              0.1670   0.0565    0.497797  2.980822  0.037545    1.658693  \n",
       "259              0.1135   0.0565    0.338323  2.980822  0.037545    1.339778  \n",
       "265              0.1135   0.0640    0.332468  2.929229  0.042151    1.328025  "
      ]
     },
     "execution_count": 24,
     "metadata": {},
     "output_type": "execute_result"
    }
   ],
   "source": [
    "lift_association.sort_values('lift',ascending = False,inplace=True)\n",
    "lift_association.head()"
   ]
  },
  {
   "cell_type": "markdown",
   "id": "a32e5c1c",
   "metadata": {},
   "source": [
    "# Eliminating Redundant rules"
   ]
  },
  {
   "cell_type": "code",
   "execution_count": 25,
   "id": "4b92be95",
   "metadata": {},
   "outputs": [
    {
     "data": {
      "text/html": [
       "<div>\n",
       "<style scoped>\n",
       "    .dataframe tbody tr th:only-of-type {\n",
       "        vertical-align: middle;\n",
       "    }\n",
       "\n",
       "    .dataframe tbody tr th {\n",
       "        vertical-align: top;\n",
       "    }\n",
       "\n",
       "    .dataframe thead th {\n",
       "        text-align: right;\n",
       "    }\n",
       "</style>\n",
       "<table border=\"1\" class=\"dataframe\">\n",
       "  <thead>\n",
       "    <tr style=\"text-align: right;\">\n",
       "      <th></th>\n",
       "      <th>antecedents</th>\n",
       "      <th>consequents</th>\n",
       "      <th>antecedent support</th>\n",
       "      <th>consequent support</th>\n",
       "      <th>support</th>\n",
       "      <th>confidence</th>\n",
       "      <th>lift</th>\n",
       "      <th>leverage</th>\n",
       "      <th>conviction</th>\n",
       "    </tr>\n",
       "  </thead>\n",
       "  <tbody>\n",
       "    <tr>\n",
       "      <th>0</th>\n",
       "      <td>(ChildBks, CookBks)</td>\n",
       "      <td>(GeogBks)</td>\n",
       "      <td>0.2560</td>\n",
       "      <td>0.2760</td>\n",
       "      <td>0.1495</td>\n",
       "      <td>0.583984</td>\n",
       "      <td>2.115885</td>\n",
       "      <td>0.078844</td>\n",
       "      <td>1.740319</td>\n",
       "    </tr>\n",
       "    <tr>\n",
       "      <th>1</th>\n",
       "      <td>(GeogBks)</td>\n",
       "      <td>(ChildBks, CookBks)</td>\n",
       "      <td>0.2760</td>\n",
       "      <td>0.2560</td>\n",
       "      <td>0.1495</td>\n",
       "      <td>0.541667</td>\n",
       "      <td>2.115885</td>\n",
       "      <td>0.078844</td>\n",
       "      <td>1.623273</td>\n",
       "    </tr>\n",
       "    <tr>\n",
       "      <th>2</th>\n",
       "      <td>(GeogBks)</td>\n",
       "      <td>(ChildBks)</td>\n",
       "      <td>0.2760</td>\n",
       "      <td>0.4230</td>\n",
       "      <td>0.1950</td>\n",
       "      <td>0.706522</td>\n",
       "      <td>1.670264</td>\n",
       "      <td>0.078252</td>\n",
       "      <td>1.966074</td>\n",
       "    </tr>\n",
       "    <tr>\n",
       "      <th>3</th>\n",
       "      <td>(ChildBks)</td>\n",
       "      <td>(GeogBks)</td>\n",
       "      <td>0.4230</td>\n",
       "      <td>0.2760</td>\n",
       "      <td>0.1950</td>\n",
       "      <td>0.460993</td>\n",
       "      <td>1.670264</td>\n",
       "      <td>0.078252</td>\n",
       "      <td>1.343211</td>\n",
       "    </tr>\n",
       "    <tr>\n",
       "      <th>4</th>\n",
       "      <td>(ChildBks, CookBks)</td>\n",
       "      <td>(DoItYBks)</td>\n",
       "      <td>0.2560</td>\n",
       "      <td>0.2820</td>\n",
       "      <td>0.1460</td>\n",
       "      <td>0.570312</td>\n",
       "      <td>2.022385</td>\n",
       "      <td>0.073808</td>\n",
       "      <td>1.670982</td>\n",
       "    </tr>\n",
       "    <tr>\n",
       "      <th>...</th>\n",
       "      <td>...</td>\n",
       "      <td>...</td>\n",
       "      <td>...</td>\n",
       "      <td>...</td>\n",
       "      <td>...</td>\n",
       "      <td>...</td>\n",
       "      <td>...</td>\n",
       "      <td>...</td>\n",
       "      <td>...</td>\n",
       "    </tr>\n",
       "    <tr>\n",
       "      <th>274</th>\n",
       "      <td>(ItalCook)</td>\n",
       "      <td>(DoItYBks)</td>\n",
       "      <td>0.1135</td>\n",
       "      <td>0.2820</td>\n",
       "      <td>0.0585</td>\n",
       "      <td>0.515419</td>\n",
       "      <td>1.827725</td>\n",
       "      <td>0.026493</td>\n",
       "      <td>1.481691</td>\n",
       "    </tr>\n",
       "    <tr>\n",
       "      <th>275</th>\n",
       "      <td>(ItalCook, CookBks)</td>\n",
       "      <td>(DoItYBks)</td>\n",
       "      <td>0.1135</td>\n",
       "      <td>0.2820</td>\n",
       "      <td>0.0585</td>\n",
       "      <td>0.515419</td>\n",
       "      <td>1.827725</td>\n",
       "      <td>0.026493</td>\n",
       "      <td>1.481691</td>\n",
       "    </tr>\n",
       "    <tr>\n",
       "      <th>276</th>\n",
       "      <td>(DoItYBks)</td>\n",
       "      <td>(ItalCook, CookBks)</td>\n",
       "      <td>0.2820</td>\n",
       "      <td>0.1135</td>\n",
       "      <td>0.0585</td>\n",
       "      <td>0.207447</td>\n",
       "      <td>1.827725</td>\n",
       "      <td>0.026493</td>\n",
       "      <td>1.118537</td>\n",
       "    </tr>\n",
       "    <tr>\n",
       "      <th>277</th>\n",
       "      <td>(DoItYBks)</td>\n",
       "      <td>(ItalCook)</td>\n",
       "      <td>0.2820</td>\n",
       "      <td>0.1135</td>\n",
       "      <td>0.0585</td>\n",
       "      <td>0.207447</td>\n",
       "      <td>1.827725</td>\n",
       "      <td>0.026493</td>\n",
       "      <td>1.118537</td>\n",
       "    </tr>\n",
       "    <tr>\n",
       "      <th>278</th>\n",
       "      <td>(GeogBks, ItalCook)</td>\n",
       "      <td>(ChildBks)</td>\n",
       "      <td>0.0640</td>\n",
       "      <td>0.4230</td>\n",
       "      <td>0.0525</td>\n",
       "      <td>0.820312</td>\n",
       "      <td>1.939273</td>\n",
       "      <td>0.025428</td>\n",
       "      <td>3.211130</td>\n",
       "    </tr>\n",
       "  </tbody>\n",
       "</table>\n",
       "<p>279 rows × 9 columns</p>\n",
       "</div>"
      ],
      "text/plain": [
       "             antecedents          consequents  antecedent support  \\\n",
       "0    (ChildBks, CookBks)            (GeogBks)              0.2560   \n",
       "1              (GeogBks)  (ChildBks, CookBks)              0.2760   \n",
       "2              (GeogBks)           (ChildBks)              0.2760   \n",
       "3             (ChildBks)            (GeogBks)              0.4230   \n",
       "4    (ChildBks, CookBks)           (DoItYBks)              0.2560   \n",
       "..                   ...                  ...                 ...   \n",
       "274           (ItalCook)           (DoItYBks)              0.1135   \n",
       "275  (ItalCook, CookBks)           (DoItYBks)              0.1135   \n",
       "276           (DoItYBks)  (ItalCook, CookBks)              0.2820   \n",
       "277           (DoItYBks)           (ItalCook)              0.2820   \n",
       "278  (GeogBks, ItalCook)           (ChildBks)              0.0640   \n",
       "\n",
       "     consequent support  support  confidence      lift  leverage  conviction  \n",
       "0                0.2760   0.1495    0.583984  2.115885  0.078844    1.740319  \n",
       "1                0.2560   0.1495    0.541667  2.115885  0.078844    1.623273  \n",
       "2                0.4230   0.1950    0.706522  1.670264  0.078252    1.966074  \n",
       "3                0.2760   0.1950    0.460993  1.670264  0.078252    1.343211  \n",
       "4                0.2820   0.1460    0.570312  2.022385  0.073808    1.670982  \n",
       "..                  ...      ...         ...       ...       ...         ...  \n",
       "274              0.2820   0.0585    0.515419  1.827725  0.026493    1.481691  \n",
       "275              0.2820   0.0585    0.515419  1.827725  0.026493    1.481691  \n",
       "276              0.1135   0.0585    0.207447  1.827725  0.026493    1.118537  \n",
       "277              0.1135   0.0585    0.207447  1.827725  0.026493    1.118537  \n",
       "278              0.4230   0.0525    0.820312  1.939273  0.025428    3.211130  \n",
       "\n",
       "[279 rows x 9 columns]"
      ]
     },
     "execution_count": 25,
     "metadata": {},
     "output_type": "execute_result"
    }
   ],
   "source": [
    "# Rules we got with 'confidence' as metrix\n",
    "confredundancy = confidence_association.sort_values(by=['leverage','confidence'], axis=0, ascending=False).reset_index()\n",
    "confredundancy = confredundancy.drop(['index'], axis=1)\n",
    "confredundancy"
   ]
  },
  {
   "cell_type": "code",
   "execution_count": 26,
   "id": "85b0cad4",
   "metadata": {},
   "outputs": [
    {
     "data": {
      "text/html": [
       "<div>\n",
       "<style scoped>\n",
       "    .dataframe tbody tr th:only-of-type {\n",
       "        vertical-align: middle;\n",
       "    }\n",
       "\n",
       "    .dataframe tbody tr th {\n",
       "        vertical-align: top;\n",
       "    }\n",
       "\n",
       "    .dataframe thead th {\n",
       "        text-align: right;\n",
       "    }\n",
       "</style>\n",
       "<table border=\"1\" class=\"dataframe\">\n",
       "  <thead>\n",
       "    <tr style=\"text-align: right;\">\n",
       "      <th></th>\n",
       "      <th>antecedents</th>\n",
       "      <th>consequents</th>\n",
       "      <th>antecedent support</th>\n",
       "      <th>consequent support</th>\n",
       "      <th>support</th>\n",
       "      <th>confidence</th>\n",
       "      <th>lift</th>\n",
       "      <th>leverage</th>\n",
       "      <th>conviction</th>\n",
       "    </tr>\n",
       "  </thead>\n",
       "  <tbody>\n",
       "    <tr>\n",
       "      <th>0</th>\n",
       "      <td>(ChildBks, CookBks)</td>\n",
       "      <td>(GeogBks)</td>\n",
       "      <td>0.2560</td>\n",
       "      <td>0.2760</td>\n",
       "      <td>0.1495</td>\n",
       "      <td>0.583984</td>\n",
       "      <td>2.115885</td>\n",
       "      <td>0.078844</td>\n",
       "      <td>1.740319</td>\n",
       "    </tr>\n",
       "    <tr>\n",
       "      <th>1</th>\n",
       "      <td>(GeogBks)</td>\n",
       "      <td>(ChildBks, CookBks)</td>\n",
       "      <td>0.2760</td>\n",
       "      <td>0.2560</td>\n",
       "      <td>0.1495</td>\n",
       "      <td>0.541667</td>\n",
       "      <td>2.115885</td>\n",
       "      <td>0.078844</td>\n",
       "      <td>1.623273</td>\n",
       "    </tr>\n",
       "    <tr>\n",
       "      <th>2</th>\n",
       "      <td>(GeogBks)</td>\n",
       "      <td>(ChildBks)</td>\n",
       "      <td>0.2760</td>\n",
       "      <td>0.4230</td>\n",
       "      <td>0.1950</td>\n",
       "      <td>0.706522</td>\n",
       "      <td>1.670264</td>\n",
       "      <td>0.078252</td>\n",
       "      <td>1.966074</td>\n",
       "    </tr>\n",
       "    <tr>\n",
       "      <th>3</th>\n",
       "      <td>(ChildBks)</td>\n",
       "      <td>(GeogBks)</td>\n",
       "      <td>0.4230</td>\n",
       "      <td>0.2760</td>\n",
       "      <td>0.1950</td>\n",
       "      <td>0.460993</td>\n",
       "      <td>1.670264</td>\n",
       "      <td>0.078252</td>\n",
       "      <td>1.343211</td>\n",
       "    </tr>\n",
       "    <tr>\n",
       "      <th>4</th>\n",
       "      <td>(ChildBks, CookBks)</td>\n",
       "      <td>(DoItYBks)</td>\n",
       "      <td>0.2560</td>\n",
       "      <td>0.2820</td>\n",
       "      <td>0.1460</td>\n",
       "      <td>0.570312</td>\n",
       "      <td>2.022385</td>\n",
       "      <td>0.073808</td>\n",
       "      <td>1.670982</td>\n",
       "    </tr>\n",
       "    <tr>\n",
       "      <th>...</th>\n",
       "      <td>...</td>\n",
       "      <td>...</td>\n",
       "      <td>...</td>\n",
       "      <td>...</td>\n",
       "      <td>...</td>\n",
       "      <td>...</td>\n",
       "      <td>...</td>\n",
       "      <td>...</td>\n",
       "      <td>...</td>\n",
       "    </tr>\n",
       "    <tr>\n",
       "      <th>289</th>\n",
       "      <td>(ItalCook)</td>\n",
       "      <td>(DoItYBks)</td>\n",
       "      <td>0.1135</td>\n",
       "      <td>0.2820</td>\n",
       "      <td>0.0585</td>\n",
       "      <td>0.515419</td>\n",
       "      <td>1.827725</td>\n",
       "      <td>0.026493</td>\n",
       "      <td>1.481691</td>\n",
       "    </tr>\n",
       "    <tr>\n",
       "      <th>290</th>\n",
       "      <td>(DoItYBks)</td>\n",
       "      <td>(ItalCook)</td>\n",
       "      <td>0.2820</td>\n",
       "      <td>0.1135</td>\n",
       "      <td>0.0585</td>\n",
       "      <td>0.207447</td>\n",
       "      <td>1.827725</td>\n",
       "      <td>0.026493</td>\n",
       "      <td>1.118537</td>\n",
       "    </tr>\n",
       "    <tr>\n",
       "      <th>291</th>\n",
       "      <td>(DoItYBks)</td>\n",
       "      <td>(ItalCook, CookBks)</td>\n",
       "      <td>0.2820</td>\n",
       "      <td>0.1135</td>\n",
       "      <td>0.0585</td>\n",
       "      <td>0.207447</td>\n",
       "      <td>1.827725</td>\n",
       "      <td>0.026493</td>\n",
       "      <td>1.118537</td>\n",
       "    </tr>\n",
       "    <tr>\n",
       "      <th>292</th>\n",
       "      <td>(GeogBks, ItalCook)</td>\n",
       "      <td>(ChildBks)</td>\n",
       "      <td>0.0640</td>\n",
       "      <td>0.4230</td>\n",
       "      <td>0.0525</td>\n",
       "      <td>0.820312</td>\n",
       "      <td>1.939273</td>\n",
       "      <td>0.025428</td>\n",
       "      <td>3.211130</td>\n",
       "    </tr>\n",
       "    <tr>\n",
       "      <th>293</th>\n",
       "      <td>(ChildBks)</td>\n",
       "      <td>(GeogBks, ItalCook)</td>\n",
       "      <td>0.4230</td>\n",
       "      <td>0.0640</td>\n",
       "      <td>0.0525</td>\n",
       "      <td>0.124113</td>\n",
       "      <td>1.939273</td>\n",
       "      <td>0.025428</td>\n",
       "      <td>1.068632</td>\n",
       "    </tr>\n",
       "  </tbody>\n",
       "</table>\n",
       "<p>294 rows × 9 columns</p>\n",
       "</div>"
      ],
      "text/plain": [
       "             antecedents          consequents  antecedent support  \\\n",
       "0    (ChildBks, CookBks)            (GeogBks)              0.2560   \n",
       "1              (GeogBks)  (ChildBks, CookBks)              0.2760   \n",
       "2              (GeogBks)           (ChildBks)              0.2760   \n",
       "3             (ChildBks)            (GeogBks)              0.4230   \n",
       "4    (ChildBks, CookBks)           (DoItYBks)              0.2560   \n",
       "..                   ...                  ...                 ...   \n",
       "289           (ItalCook)           (DoItYBks)              0.1135   \n",
       "290           (DoItYBks)           (ItalCook)              0.2820   \n",
       "291           (DoItYBks)  (ItalCook, CookBks)              0.2820   \n",
       "292  (GeogBks, ItalCook)           (ChildBks)              0.0640   \n",
       "293           (ChildBks)  (GeogBks, ItalCook)              0.4230   \n",
       "\n",
       "     consequent support  support  confidence      lift  leverage  conviction  \n",
       "0                0.2760   0.1495    0.583984  2.115885  0.078844    1.740319  \n",
       "1                0.2560   0.1495    0.541667  2.115885  0.078844    1.623273  \n",
       "2                0.4230   0.1950    0.706522  1.670264  0.078252    1.966074  \n",
       "3                0.2760   0.1950    0.460993  1.670264  0.078252    1.343211  \n",
       "4                0.2820   0.1460    0.570312  2.022385  0.073808    1.670982  \n",
       "..                  ...      ...         ...       ...       ...         ...  \n",
       "289              0.2820   0.0585    0.515419  1.827725  0.026493    1.481691  \n",
       "290              0.1135   0.0585    0.207447  1.827725  0.026493    1.118537  \n",
       "291              0.1135   0.0585    0.207447  1.827725  0.026493    1.118537  \n",
       "292              0.4230   0.0525    0.820312  1.939273  0.025428    3.211130  \n",
       "293              0.0640   0.0525    0.124113  1.939273  0.025428    1.068632  \n",
       "\n",
       "[294 rows x 9 columns]"
      ]
     },
     "execution_count": 26,
     "metadata": {},
     "output_type": "execute_result"
    }
   ],
   "source": [
    "# Rules we got with 'lift' as metrix\n",
    "liftredundancy = lift_association.sort_values(by=['leverage','confidence'], axis=0, ascending=False).reset_index()\n",
    "liftredundancy = liftredundancy.drop(['index'], axis=1)\n",
    "liftredundancy"
   ]
  },
  {
   "cell_type": "markdown",
   "id": "ca1b7a1e",
   "metadata": {},
   "source": [
    "# Finding the Unique Sets"
   ]
  },
  {
   "cell_type": "code",
   "execution_count": 27,
   "id": "e9d037b8",
   "metadata": {},
   "outputs": [
    {
     "data": {
      "text/plain": [
       "(294, 9)"
      ]
     },
     "execution_count": 27,
     "metadata": {},
     "output_type": "execute_result"
    }
   ],
   "source": [
    "unique_rules = liftredundancy.iloc[::1]\n",
    "unique_rules.shape"
   ]
  },
  {
   "cell_type": "code",
   "execution_count": 28,
   "id": "b187d70d",
   "metadata": {},
   "outputs": [
    {
     "data": {
      "text/html": [
       "<div>\n",
       "<style scoped>\n",
       "    .dataframe tbody tr th:only-of-type {\n",
       "        vertical-align: middle;\n",
       "    }\n",
       "\n",
       "    .dataframe tbody tr th {\n",
       "        vertical-align: top;\n",
       "    }\n",
       "\n",
       "    .dataframe thead th {\n",
       "        text-align: right;\n",
       "    }\n",
       "</style>\n",
       "<table border=\"1\" class=\"dataframe\">\n",
       "  <thead>\n",
       "    <tr style=\"text-align: right;\">\n",
       "      <th></th>\n",
       "      <th>antecedents</th>\n",
       "      <th>consequents</th>\n",
       "      <th>antecedent support</th>\n",
       "      <th>consequent support</th>\n",
       "      <th>support</th>\n",
       "      <th>confidence</th>\n",
       "      <th>lift</th>\n",
       "      <th>leverage</th>\n",
       "      <th>conviction</th>\n",
       "    </tr>\n",
       "  </thead>\n",
       "  <tbody>\n",
       "    <tr>\n",
       "      <th>0</th>\n",
       "      <td>(ChildBks, CookBks)</td>\n",
       "      <td>(GeogBks)</td>\n",
       "      <td>0.256</td>\n",
       "      <td>0.276</td>\n",
       "      <td>0.1495</td>\n",
       "      <td>0.583984</td>\n",
       "      <td>2.115885</td>\n",
       "      <td>0.078844</td>\n",
       "      <td>1.740319</td>\n",
       "    </tr>\n",
       "    <tr>\n",
       "      <th>1</th>\n",
       "      <td>(GeogBks)</td>\n",
       "      <td>(ChildBks, CookBks)</td>\n",
       "      <td>0.276</td>\n",
       "      <td>0.256</td>\n",
       "      <td>0.1495</td>\n",
       "      <td>0.541667</td>\n",
       "      <td>2.115885</td>\n",
       "      <td>0.078844</td>\n",
       "      <td>1.623273</td>\n",
       "    </tr>\n",
       "    <tr>\n",
       "      <th>2</th>\n",
       "      <td>(GeogBks)</td>\n",
       "      <td>(ChildBks)</td>\n",
       "      <td>0.276</td>\n",
       "      <td>0.423</td>\n",
       "      <td>0.1950</td>\n",
       "      <td>0.706522</td>\n",
       "      <td>1.670264</td>\n",
       "      <td>0.078252</td>\n",
       "      <td>1.966074</td>\n",
       "    </tr>\n",
       "    <tr>\n",
       "      <th>3</th>\n",
       "      <td>(ChildBks)</td>\n",
       "      <td>(GeogBks)</td>\n",
       "      <td>0.423</td>\n",
       "      <td>0.276</td>\n",
       "      <td>0.1950</td>\n",
       "      <td>0.460993</td>\n",
       "      <td>1.670264</td>\n",
       "      <td>0.078252</td>\n",
       "      <td>1.343211</td>\n",
       "    </tr>\n",
       "    <tr>\n",
       "      <th>4</th>\n",
       "      <td>(ChildBks, CookBks)</td>\n",
       "      <td>(DoItYBks)</td>\n",
       "      <td>0.256</td>\n",
       "      <td>0.282</td>\n",
       "      <td>0.1460</td>\n",
       "      <td>0.570312</td>\n",
       "      <td>2.022385</td>\n",
       "      <td>0.073808</td>\n",
       "      <td>1.670982</td>\n",
       "    </tr>\n",
       "  </tbody>\n",
       "</table>\n",
       "</div>"
      ],
      "text/plain": [
       "           antecedents          consequents  antecedent support  \\\n",
       "0  (ChildBks, CookBks)            (GeogBks)               0.256   \n",
       "1            (GeogBks)  (ChildBks, CookBks)               0.276   \n",
       "2            (GeogBks)           (ChildBks)               0.276   \n",
       "3           (ChildBks)            (GeogBks)               0.423   \n",
       "4  (ChildBks, CookBks)           (DoItYBks)               0.256   \n",
       "\n",
       "   consequent support  support  confidence      lift  leverage  conviction  \n",
       "0               0.276   0.1495    0.583984  2.115885  0.078844    1.740319  \n",
       "1               0.256   0.1495    0.541667  2.115885  0.078844    1.623273  \n",
       "2               0.423   0.1950    0.706522  1.670264  0.078252    1.966074  \n",
       "3               0.276   0.1950    0.460993  1.670264  0.078252    1.343211  \n",
       "4               0.282   0.1460    0.570312  2.022385  0.073808    1.670982  "
      ]
     },
     "execution_count": 28,
     "metadata": {},
     "output_type": "execute_result"
    }
   ],
   "source": [
    "unique_rules.head()"
   ]
  },
  {
   "cell_type": "markdown",
   "id": "1286054f",
   "metadata": {},
   "source": [
    "# Generated Rules analysis"
   ]
  },
  {
   "cell_type": "code",
   "execution_count": 29,
   "id": "9cfb2e80",
   "metadata": {},
   "outputs": [],
   "source": [
    "#Rules sorted with respect to lift\n",
    "top_sort = unique_rules[unique_rules['lift']>1.5]"
   ]
  },
  {
   "cell_type": "code",
   "execution_count": 30,
   "id": "4a6c7d68",
   "metadata": {},
   "outputs": [
    {
     "data": {
      "text/html": [
       "<div>\n",
       "<style scoped>\n",
       "    .dataframe tbody tr th:only-of-type {\n",
       "        vertical-align: middle;\n",
       "    }\n",
       "\n",
       "    .dataframe tbody tr th {\n",
       "        vertical-align: top;\n",
       "    }\n",
       "\n",
       "    .dataframe thead th {\n",
       "        text-align: right;\n",
       "    }\n",
       "</style>\n",
       "<table border=\"1\" class=\"dataframe\">\n",
       "  <thead>\n",
       "    <tr style=\"text-align: right;\">\n",
       "      <th></th>\n",
       "      <th>antecedents</th>\n",
       "      <th>consequents</th>\n",
       "      <th>antecedent support</th>\n",
       "      <th>consequent support</th>\n",
       "      <th>support</th>\n",
       "      <th>confidence</th>\n",
       "      <th>lift</th>\n",
       "      <th>leverage</th>\n",
       "      <th>conviction</th>\n",
       "    </tr>\n",
       "  </thead>\n",
       "  <tbody>\n",
       "    <tr>\n",
       "      <th>0</th>\n",
       "      <td>(ChildBks, CookBks)</td>\n",
       "      <td>(GeogBks)</td>\n",
       "      <td>0.256</td>\n",
       "      <td>0.276</td>\n",
       "      <td>0.1495</td>\n",
       "      <td>0.583984</td>\n",
       "      <td>2.115885</td>\n",
       "      <td>0.078844</td>\n",
       "      <td>1.740319</td>\n",
       "    </tr>\n",
       "    <tr>\n",
       "      <th>1</th>\n",
       "      <td>(GeogBks)</td>\n",
       "      <td>(ChildBks, CookBks)</td>\n",
       "      <td>0.276</td>\n",
       "      <td>0.256</td>\n",
       "      <td>0.1495</td>\n",
       "      <td>0.541667</td>\n",
       "      <td>2.115885</td>\n",
       "      <td>0.078844</td>\n",
       "      <td>1.623273</td>\n",
       "    </tr>\n",
       "    <tr>\n",
       "      <th>2</th>\n",
       "      <td>(GeogBks)</td>\n",
       "      <td>(ChildBks)</td>\n",
       "      <td>0.276</td>\n",
       "      <td>0.423</td>\n",
       "      <td>0.1950</td>\n",
       "      <td>0.706522</td>\n",
       "      <td>1.670264</td>\n",
       "      <td>0.078252</td>\n",
       "      <td>1.966074</td>\n",
       "    </tr>\n",
       "    <tr>\n",
       "      <th>3</th>\n",
       "      <td>(ChildBks)</td>\n",
       "      <td>(GeogBks)</td>\n",
       "      <td>0.423</td>\n",
       "      <td>0.276</td>\n",
       "      <td>0.1950</td>\n",
       "      <td>0.460993</td>\n",
       "      <td>1.670264</td>\n",
       "      <td>0.078252</td>\n",
       "      <td>1.343211</td>\n",
       "    </tr>\n",
       "    <tr>\n",
       "      <th>4</th>\n",
       "      <td>(ChildBks, CookBks)</td>\n",
       "      <td>(DoItYBks)</td>\n",
       "      <td>0.256</td>\n",
       "      <td>0.282</td>\n",
       "      <td>0.1460</td>\n",
       "      <td>0.570312</td>\n",
       "      <td>2.022385</td>\n",
       "      <td>0.073808</td>\n",
       "      <td>1.670982</td>\n",
       "    </tr>\n",
       "  </tbody>\n",
       "</table>\n",
       "</div>"
      ],
      "text/plain": [
       "           antecedents          consequents  antecedent support  \\\n",
       "0  (ChildBks, CookBks)            (GeogBks)               0.256   \n",
       "1            (GeogBks)  (ChildBks, CookBks)               0.276   \n",
       "2            (GeogBks)           (ChildBks)               0.276   \n",
       "3           (ChildBks)            (GeogBks)               0.423   \n",
       "4  (ChildBks, CookBks)           (DoItYBks)               0.256   \n",
       "\n",
       "   consequent support  support  confidence      lift  leverage  conviction  \n",
       "0               0.276   0.1495    0.583984  2.115885  0.078844    1.740319  \n",
       "1               0.256   0.1495    0.541667  2.115885  0.078844    1.623273  \n",
       "2               0.423   0.1950    0.706522  1.670264  0.078252    1.966074  \n",
       "3               0.276   0.1950    0.460993  1.670264  0.078252    1.343211  \n",
       "4               0.282   0.1460    0.570312  2.022385  0.073808    1.670982  "
      ]
     },
     "execution_count": 30,
     "metadata": {},
     "output_type": "execute_result"
    }
   ],
   "source": [
    "\n",
    "top_sored = top_sort.sort_values(by='lift', ascending = False)\n",
    "top_sort.reset_index(inplace=True)\n",
    "top_sort = top_sort.drop(['index'],axis=1)\n",
    "top_sort.head()"
   ]
  },
  {
   "cell_type": "code",
   "execution_count": 31,
   "id": "e84acf6e",
   "metadata": {},
   "outputs": [],
   "source": [
    "x = top_sort[['antecedents','consequents']]"
   ]
  },
  {
   "cell_type": "code",
   "execution_count": 32,
   "id": "2bdadc4a",
   "metadata": {},
   "outputs": [],
   "source": [
    "# top sorted Antecedents\n",
    "item_list = []\n",
    "for i in x.antecedents.to_list():\n",
    "    for j in list(set(i)):\n",
    "        item_list.append(j)"
   ]
  },
  {
   "cell_type": "code",
   "execution_count": 33,
   "id": "c150cb87",
   "metadata": {},
   "outputs": [],
   "source": [
    "# top sorted consequents\n",
    "item_list = []\n",
    "for p in x.consequents.to_list():\n",
    "    for q in list(set(p)):\n",
    "        item_list.append(q)"
   ]
  },
  {
   "cell_type": "code",
   "execution_count": 34,
   "id": "cfe4c370",
   "metadata": {},
   "outputs": [],
   "source": [
    "#generating unique list of items (# without redundacy)\n",
    "def unique(list1):\n",
    "    # insert the list to the set \n",
    "    list_set = set(list1)\n",
    " \n",
    "    # convert the set to the list \n",
    "    unique_list = (list(list_set))\n",
    " \n",
    "    top_items =[]\n",
    "    for m in unique_list:\n",
    "        top_items.append(m)\n",
    " \n",
    "    print(top_items)\n"
   ]
  },
  {
   "cell_type": "markdown",
   "id": "7ffa16c5",
   "metadata": {},
   "source": [
    "# Concluding top_items and the shuffled combination of top lift result"
   ]
  },
  {
   "cell_type": "code",
   "execution_count": 35,
   "id": "07747049",
   "metadata": {},
   "outputs": [
    {
     "name": "stdout",
     "output_type": "stream",
     "text": [
      "['YouthBks', 'GeogBks', 'ChildBks', 'DoItYBks', 'RefBks', 'ArtBks', 'ItalCook', 'CookBks']\n"
     ]
    }
   ],
   "source": [
    "unique(item_list)"
   ]
  },
  {
   "cell_type": "markdown",
   "id": "32a6afb2",
   "metadata": {},
   "source": [
    "# Trying different values of Min_support, Metric, Max_len, and Min_thershold"
   ]
  },
  {
   "cell_type": "code",
   "execution_count": 36,
   "id": "e12db79f",
   "metadata": {},
   "outputs": [
    {
     "name": "stderr",
     "output_type": "stream",
     "text": [
      "C:\\Users\\hp\\anaconda3\\lib\\site-packages\\mlxtend\\frequent_patterns\\fpcommon.py:111: DeprecationWarning: DataFrames with non-bool types result in worse computationalperformance and their support might be discontinued in the future.Please use a DataFrame with bool type\n",
      "  warnings.warn(\n"
     ]
    }
   ],
   "source": [
    "frequent_books_s = apriori(data, min_support = 0.015, max_len = 3, use_colnames = True)\n",
    "#sorting with respect to support\n",
    "frequent_books_s.sort_values(\"support\", ascending = False, inplace = True)"
   ]
  },
  {
   "cell_type": "code",
   "execution_count": 38,
   "id": "34b1bed1",
   "metadata": {},
   "outputs": [],
   "source": [
    "#generating association rules\n",
    "rules = association_rules(frequent_books_s, metric = \"lift\", min_threshold= 1)"
   ]
  },
  {
   "cell_type": "code",
   "execution_count": 39,
   "id": "21a9e1b6",
   "metadata": {},
   "outputs": [
    {
     "data": {
      "text/html": [
       "<div>\n",
       "<style scoped>\n",
       "    .dataframe tbody tr th:only-of-type {\n",
       "        vertical-align: middle;\n",
       "    }\n",
       "\n",
       "    .dataframe tbody tr th {\n",
       "        vertical-align: top;\n",
       "    }\n",
       "\n",
       "    .dataframe thead th {\n",
       "        text-align: right;\n",
       "    }\n",
       "</style>\n",
       "<table border=\"1\" class=\"dataframe\">\n",
       "  <thead>\n",
       "    <tr style=\"text-align: right;\">\n",
       "      <th></th>\n",
       "      <th>antecedents</th>\n",
       "      <th>consequents</th>\n",
       "      <th>antecedent support</th>\n",
       "      <th>consequent support</th>\n",
       "      <th>support</th>\n",
       "      <th>confidence</th>\n",
       "      <th>lift</th>\n",
       "      <th>leverage</th>\n",
       "      <th>conviction</th>\n",
       "    </tr>\n",
       "  </thead>\n",
       "  <tbody>\n",
       "    <tr>\n",
       "      <th>748</th>\n",
       "      <td>(RefBks, ItalArt)</td>\n",
       "      <td>(ItalAtlas)</td>\n",
       "      <td>0.0200</td>\n",
       "      <td>0.0370</td>\n",
       "      <td>0.0165</td>\n",
       "      <td>0.825000</td>\n",
       "      <td>22.297297</td>\n",
       "      <td>0.015760</td>\n",
       "      <td>5.502857</td>\n",
       "    </tr>\n",
       "    <tr>\n",
       "      <th>753</th>\n",
       "      <td>(ItalAtlas)</td>\n",
       "      <td>(RefBks, ItalArt)</td>\n",
       "      <td>0.0370</td>\n",
       "      <td>0.0200</td>\n",
       "      <td>0.0165</td>\n",
       "      <td>0.445946</td>\n",
       "      <td>22.297297</td>\n",
       "      <td>0.015760</td>\n",
       "      <td>1.768780</td>\n",
       "    </tr>\n",
       "    <tr>\n",
       "      <th>738</th>\n",
       "      <td>(ArtBks, ItalAtlas)</td>\n",
       "      <td>(ItalArt)</td>\n",
       "      <td>0.0180</td>\n",
       "      <td>0.0485</td>\n",
       "      <td>0.0165</td>\n",
       "      <td>0.916667</td>\n",
       "      <td>18.900344</td>\n",
       "      <td>0.015627</td>\n",
       "      <td>11.418000</td>\n",
       "    </tr>\n",
       "    <tr>\n",
       "      <th>739</th>\n",
       "      <td>(ItalArt)</td>\n",
       "      <td>(ArtBks, ItalAtlas)</td>\n",
       "      <td>0.0485</td>\n",
       "      <td>0.0180</td>\n",
       "      <td>0.0165</td>\n",
       "      <td>0.340206</td>\n",
       "      <td>18.900344</td>\n",
       "      <td>0.015627</td>\n",
       "      <td>1.488344</td>\n",
       "    </tr>\n",
       "    <tr>\n",
       "      <th>361</th>\n",
       "      <td>(ItalArt)</td>\n",
       "      <td>(ArtBks, ItalCook)</td>\n",
       "      <td>0.0485</td>\n",
       "      <td>0.0565</td>\n",
       "      <td>0.0375</td>\n",
       "      <td>0.773196</td>\n",
       "      <td>13.684883</td>\n",
       "      <td>0.034760</td>\n",
       "      <td>4.159977</td>\n",
       "    </tr>\n",
       "    <tr>\n",
       "      <th>360</th>\n",
       "      <td>(ArtBks, ItalCook)</td>\n",
       "      <td>(ItalArt)</td>\n",
       "      <td>0.0565</td>\n",
       "      <td>0.0485</td>\n",
       "      <td>0.0375</td>\n",
       "      <td>0.663717</td>\n",
       "      <td>13.684883</td>\n",
       "      <td>0.034760</td>\n",
       "      <td>2.829461</td>\n",
       "    </tr>\n",
       "    <tr>\n",
       "      <th>568</th>\n",
       "      <td>(RefBks, ItalCook)</td>\n",
       "      <td>(ItalAtlas)</td>\n",
       "      <td>0.0465</td>\n",
       "      <td>0.0370</td>\n",
       "      <td>0.0230</td>\n",
       "      <td>0.494624</td>\n",
       "      <td>13.368207</td>\n",
       "      <td>0.021279</td>\n",
       "      <td>1.905511</td>\n",
       "    </tr>\n",
       "    <tr>\n",
       "      <th>573</th>\n",
       "      <td>(ItalAtlas)</td>\n",
       "      <td>(RefBks, ItalCook)</td>\n",
       "      <td>0.0370</td>\n",
       "      <td>0.0465</td>\n",
       "      <td>0.0230</td>\n",
       "      <td>0.621622</td>\n",
       "      <td>13.368207</td>\n",
       "      <td>0.021279</td>\n",
       "      <td>2.519964</td>\n",
       "    </tr>\n",
       "    <tr>\n",
       "      <th>749</th>\n",
       "      <td>(RefBks, ItalAtlas)</td>\n",
       "      <td>(ItalArt)</td>\n",
       "      <td>0.0370</td>\n",
       "      <td>0.0485</td>\n",
       "      <td>0.0165</td>\n",
       "      <td>0.445946</td>\n",
       "      <td>9.194762</td>\n",
       "      <td>0.014706</td>\n",
       "      <td>1.717341</td>\n",
       "    </tr>\n",
       "    <tr>\n",
       "      <th>736</th>\n",
       "      <td>(ItalArt, ArtBks)</td>\n",
       "      <td>(ItalAtlas)</td>\n",
       "      <td>0.0485</td>\n",
       "      <td>0.0370</td>\n",
       "      <td>0.0165</td>\n",
       "      <td>0.340206</td>\n",
       "      <td>9.194762</td>\n",
       "      <td>0.014706</td>\n",
       "      <td>1.459547</td>\n",
       "    </tr>\n",
       "  </tbody>\n",
       "</table>\n",
       "</div>"
      ],
      "text/plain": [
       "             antecedents          consequents  antecedent support  \\\n",
       "748    (RefBks, ItalArt)          (ItalAtlas)              0.0200   \n",
       "753          (ItalAtlas)    (RefBks, ItalArt)              0.0370   \n",
       "738  (ArtBks, ItalAtlas)            (ItalArt)              0.0180   \n",
       "739            (ItalArt)  (ArtBks, ItalAtlas)              0.0485   \n",
       "361            (ItalArt)   (ArtBks, ItalCook)              0.0485   \n",
       "360   (ArtBks, ItalCook)            (ItalArt)              0.0565   \n",
       "568   (RefBks, ItalCook)          (ItalAtlas)              0.0465   \n",
       "573          (ItalAtlas)   (RefBks, ItalCook)              0.0370   \n",
       "749  (RefBks, ItalAtlas)            (ItalArt)              0.0370   \n",
       "736    (ItalArt, ArtBks)          (ItalAtlas)              0.0485   \n",
       "\n",
       "     consequent support  support  confidence       lift  leverage  conviction  \n",
       "748              0.0370   0.0165    0.825000  22.297297  0.015760    5.502857  \n",
       "753              0.0200   0.0165    0.445946  22.297297  0.015760    1.768780  \n",
       "738              0.0485   0.0165    0.916667  18.900344  0.015627   11.418000  \n",
       "739              0.0180   0.0165    0.340206  18.900344  0.015627    1.488344  \n",
       "361              0.0565   0.0375    0.773196  13.684883  0.034760    4.159977  \n",
       "360              0.0485   0.0375    0.663717  13.684883  0.034760    2.829461  \n",
       "568              0.0370   0.0230    0.494624  13.368207  0.021279    1.905511  \n",
       "573              0.0465   0.0230    0.621622  13.368207  0.021279    2.519964  \n",
       "749              0.0485   0.0165    0.445946   9.194762  0.014706    1.717341  \n",
       "736              0.0370   0.0165    0.340206   9.194762  0.014706    1.459547  "
      ]
     },
     "execution_count": 39,
     "metadata": {},
     "output_type": "execute_result"
    }
   ],
   "source": [
    "#sorting rules with respect to lift\n",
    "rules_r = rules.sort_values('lift', ascending = False).head(10)\n",
    "rules_r"
   ]
  },
  {
   "cell_type": "code",
   "execution_count": 40,
   "id": "ccfbcff3",
   "metadata": {},
   "outputs": [
    {
     "name": "stderr",
     "output_type": "stream",
     "text": [
      "C:\\Users\\hp\\anaconda3\\lib\\site-packages\\mlxtend\\frequent_patterns\\fpcommon.py:111: DeprecationWarning: DataFrames with non-bool types result in worse computationalperformance and their support might be discontinued in the future.Please use a DataFrame with bool type\n",
      "  warnings.warn(\n"
     ]
    }
   ],
   "source": [
    "## Min_support = 0.005, Max_len = 5, Lift, Min_threshold=1\n",
    "frequent_books_2 = apriori(data, min_support = 0.005, max_len = 5, use_colnames = True)\n",
    "rules2 = association_rules(frequent_books_2, metric = \"lift\", min_threshold= 1)"
   ]
  },
  {
   "cell_type": "code",
   "execution_count": 41,
   "id": "60c70203",
   "metadata": {},
   "outputs": [
    {
     "name": "stderr",
     "output_type": "stream",
     "text": [
      "C:\\Users\\hp\\anaconda3\\lib\\site-packages\\mlxtend\\frequent_patterns\\fpcommon.py:111: DeprecationWarning: DataFrames with non-bool types result in worse computationalperformance and their support might be discontinued in the future.Please use a DataFrame with bool type\n",
      "  warnings.warn(\n"
     ]
    }
   ],
   "source": [
    "## Min_support = 0.005, Max_len = 4, Lift, Min_threshold=1\n",
    "frequent_books_3 = apriori(data, min_support = 0.005, max_len = 4, use_colnames = True)\n",
    "rules3 = association_rules(frequent_books_3, metric = \"lift\", min_threshold= 1)"
   ]
  },
  {
   "cell_type": "code",
   "execution_count": 42,
   "id": "8921247a",
   "metadata": {},
   "outputs": [
    {
     "name": "stderr",
     "output_type": "stream",
     "text": [
      "C:\\Users\\hp\\anaconda3\\lib\\site-packages\\mlxtend\\frequent_patterns\\fpcommon.py:111: DeprecationWarning: DataFrames with non-bool types result in worse computationalperformance and their support might be discontinued in the future.Please use a DataFrame with bool type\n",
      "  warnings.warn(\n"
     ]
    }
   ],
   "source": [
    "## Min_support = 0.01, Max_len = 3, Lift, Min_threshold=1.5\n",
    "frequent_books_4 = apriori(data, min_support = 0.01, max_len = 3, use_colnames = True)\n",
    "rules4 = association_rules(frequent_books_4, metric = \"lift\", min_threshold= 1.5)"
   ]
  },
  {
   "cell_type": "code",
   "execution_count": 43,
   "id": "562ceece",
   "metadata": {},
   "outputs": [
    {
     "name": "stderr",
     "output_type": "stream",
     "text": [
      "C:\\Users\\hp\\anaconda3\\lib\\site-packages\\mlxtend\\frequent_patterns\\fpcommon.py:111: DeprecationWarning: DataFrames with non-bool types result in worse computationalperformance and their support might be discontinued in the future.Please use a DataFrame with bool type\n",
      "  warnings.warn(\n"
     ]
    }
   ],
   "source": [
    "## Min_support = 0.05, Max_len = 3, Confidence, Min_threshold = 0.8\n",
    "frequent_books_5 = apriori(data, min_support = 0.05, max_len = 3, use_colnames = True)\n",
    "rules5 = association_rules(frequent_books_5, metric = \"confidence\", min_threshold= 0.8)"
   ]
  },
  {
   "cell_type": "code",
   "execution_count": 44,
   "id": "082cd924",
   "metadata": {},
   "outputs": [
    {
     "name": "stderr",
     "output_type": "stream",
     "text": [
      "C:\\Users\\hp\\anaconda3\\lib\\site-packages\\mlxtend\\frequent_patterns\\fpcommon.py:111: DeprecationWarning: DataFrames with non-bool types result in worse computationalperformance and their support might be discontinued in the future.Please use a DataFrame with bool type\n",
      "  warnings.warn(\n"
     ]
    }
   ],
   "source": [
    "## Min_support = 0.1, Max_len = 3, Confidence, Min_threshold = 0.8\n",
    "frequent_books_6 = apriori(data, min_support = 0.1, max_len = 3, use_colnames = True)\n",
    "rules6 = association_rules(frequent_books_6, metric = \"confidence\", min_threshold= 0.8)"
   ]
  },
  {
   "cell_type": "code",
   "execution_count": 45,
   "id": "30e7ca1a",
   "metadata": {},
   "outputs": [],
   "source": [
    "# Generating list for support and confidence\n",
    "support=rules['support']\n",
    "confidence=rules['confidence']"
   ]
  },
  {
   "cell_type": "code",
   "execution_count": 46,
   "id": "9bcc38aa",
   "metadata": {},
   "outputs": [
    {
     "data": {
      "text/plain": [
       "Text(0, 0.5, 'Support')"
      ]
     },
     "execution_count": 46,
     "metadata": {},
     "output_type": "execute_result"
    },
    {
     "data": {
      "image/png": "[encoded data removed]",
      "text/plain": [
       "<Figure size 1296x576 with 1 Axes>"
      ]
     },
     "metadata": {
      "needs_background": "light"
     },
     "output_type": "display_data"
    }
   ],
   "source": [
    "#frequent_books_s\n",
    "plt.figure(figsize = (18,8))\n",
    "plt.bar(x=list(range(1,11)),height=frequent_books_s.support[1:11], color = sns.color_palette ('rocket'))\n",
    "plt.xticks(list(range(1,11)),frequent_books_s.itemsets[1:11],rotation ='vertical')\n",
    "plt.xlabel('Item-Sets')\n",
    "plt.ylabel('Support')"
   ]
  },
  {
   "cell_type": "code",
   "execution_count": 47,
   "id": "2ccfce23",
   "metadata": {},
   "outputs": [
    {
     "data": {
      "text/plain": [
       "Text(0, 0.5, 'Support')"
      ]
     },
     "execution_count": 47,
     "metadata": {},
     "output_type": "execute_result"
    },
    {
     "data": {
      "image/png": "[encoded data removed]",
      "text/plain": [
       "<Figure size 1296x576 with 1 Axes>"
      ]
     },
     "metadata": {
      "needs_background": "light"
     },
     "output_type": "display_data"
    }
   ],
   "source": [
    "#frequent_books_2\n",
    "plt.figure(figsize = (18,8))\n",
    "plt.bar(x=list(range(1,11)),height=frequent_books_2.support[1:11],color = sns.color_palette ('rocket'))\n",
    "plt.xticks(list(range(1,11)),frequent_books_2.itemsets[1:11],rotation ='vertical')\n",
    "plt.xlabel('Item-Sets')\n",
    "plt.ylabel('Support')"
   ]
  },
  {
   "cell_type": "code",
   "execution_count": 48,
   "id": "e05bd357",
   "metadata": {},
   "outputs": [
    {
     "data": {
      "text/plain": [
       "Text(0, 0.5, 'Support')"
      ]
     },
     "execution_count": 48,
     "metadata": {},
     "output_type": "execute_result"
    },
    {
     "data": {
      "image/png": "[encoded data removed]",
      "text/plain": [
       "<Figure size 1296x576 with 1 Axes>"
      ]
     },
     "metadata": {
      "needs_background": "light"
     },
     "output_type": "display_data"
    }
   ],
   "source": [
    "#frequent_books_3\n",
    "plt.figure(figsize = (18,8))\n",
    "plt.bar(x=list(range(1,11)),height=frequent_books_3.support[1:11],color = sns.color_palette ('rocket'))\n",
    "plt.xticks(list(range(1,11)),frequent_books_3.itemsets[1:11],rotation ='vertical')\n",
    "plt.xlabel('Item-Sets')\n",
    "plt.ylabel('Support')"
   ]
  },
  {
   "cell_type": "code",
   "execution_count": 49,
   "id": "2ad3faa4",
   "metadata": {},
   "outputs": [
    {
     "data": {
      "text/plain": [
       "Text(0, 0.5, 'Support')"
      ]
     },
     "execution_count": 49,
     "metadata": {},
     "output_type": "execute_result"
    },
    {
     "data": {
      "image/png": "[encoded data removed]",
      "text/plain": [
       "<Figure size 1296x576 with 1 Axes>"
      ]
     },
     "metadata": {
      "needs_background": "light"
     },
     "output_type": "display_data"
    }
   ],
   "source": [
    "#frequent_books_4\n",
    "plt.figure(figsize = (18,8))\n",
    "plt.bar(x=list(range(1,11)),height=frequent_books_4.support[1:11],color = sns.color_palette ('rocket'))\n",
    "plt.xticks(list(range(1,11)),frequent_books_4.itemsets[1:11],rotation ='vertical')\n",
    "plt.xlabel('Item-Sets')\n",
    "plt.ylabel('Support')"
   ]
  },
  {
   "cell_type": "code",
   "execution_count": 50,
   "id": "91aae681",
   "metadata": {},
   "outputs": [
    {
     "data": {
      "text/plain": [
       "Text(0, 0.5, 'Support')"
      ]
     },
     "execution_count": 50,
     "metadata": {},
     "output_type": "execute_result"
    },
    {
     "data": {
      "image/png": "[encoded data removed]",
      "text/plain": [
       "<Figure size 1296x576 with 1 Axes>"
      ]
     },
     "metadata": {
      "needs_background": "light"
     },
     "output_type": "display_data"
    }
   ],
   "source": [
    "#frequent_books_5\n",
    "plt.figure(figsize = (18,8))\n",
    "plt.bar(x=list(range(1,11)),height=frequent_books_5.support[1:11],color = sns.color_palette ('rocket'))\n",
    "plt.xticks(list(range(1,11)),frequent_books_5.itemsets[1:11],rotation ='vertical')\n",
    "plt.xlabel('Item-Sets')\n",
    "plt.ylabel('Support')"
   ]
  },
  {
   "cell_type": "code",
   "execution_count": 51,
   "id": "416dda69",
   "metadata": {},
   "outputs": [
    {
     "data": {
      "text/plain": [
       "Text(0, 0.5, 'Support')"
      ]
     },
     "execution_count": 51,
     "metadata": {},
     "output_type": "execute_result"
    },
    {
     "data": {
      "image/png": "[encoded data removed]",
      "text/plain": [
       "<Figure size 1296x576 with 1 Axes>"
      ]
     },
     "metadata": {
      "needs_background": "light"
     },
     "output_type": "display_data"
    }
   ],
   "source": [
    "#frequent_books_6\n",
    "plt.figure(figsize = (18,8))\n",
    "plt.bar(x=list(range(1,11)),height=frequent_books_6.support[1:11],color = sns.color_palette ('rocket'))\n",
    "plt.xticks(list(range(1,11)),frequent_books_6.itemsets[1:11],rotation ='vertical')\n",
    "plt.xlabel('Item-Sets')\n",
    "plt.ylabel('Support')"
   ]
  },
  {
   "cell_type": "code",
   "execution_count": null,
   "id": "e4cd7ed4",
   "metadata": {},
   "outputs": [],
   "source": []
  }
 ],
 "metadata": {
  "kernelspec": {
   "display_name": "Python 3 (ipykernel)",
   "language": "python",
   "name": "python3"
  },
  "language_info": {
   "codemirror_mode": {
    "name": "ipython",
    "version": 3
   },
   "file_extension": ".py",
   "mimetype": "text/x-python",
   "name": "python",
   "nbconvert_exporter": "python",
   "pygments_lexer": "ipython3",
   "version": "3.9.12"
  }
 },
 "nbformat": 4,
 "nbformat_minor": 5
}
